{
 "cells": [
  {
   "cell_type": "markdown",
   "id": "c30c1a73-adbd-4efd-816d-ea37b1da5733",
   "metadata": {},
   "source": [
    "# Effectiveness Evaluation\n",
    "\n",
    "### In this section, I will test the effectiveness of our language including the execution of query body and the error raising when executing the query."
   ]
  },
  {
   "cell_type": "code",
   "execution_count": 1,
   "id": "f77721fa-b22c-49cc-a005-345d359e5c5d",
   "metadata": {
    "tags": []
   },
   "outputs": [],
   "source": [
    "from LMlanguage import query_execution"
   ]
  },
  {
   "cell_type": "markdown",
   "id": "6578fbe8-4172-4ae9-a922-82fa89acee9d",
   "metadata": {},
   "source": [
    "## Test1 Basic Structure of Our language\n",
    "\n",
    "### Here I want the LLM to repeat the sentence 'this is a test'. [variable1] captures the response. {variable1} retrieve the value from the scope. "
   ]
  },
  {
   "cell_type": "code",
   "execution_count": 2,
   "id": "a90bb0b5-ff2f-493c-a741-1c2c60f47b35",
   "metadata": {
    "tags": []
   },
   "outputs": [],
   "source": [
    "test11 = \\\n",
    "'''\n",
    "argmax\n",
    "task\n",
    "\"Say this is a test: [variable1]\n",
    "Repeat: {variable1}\n",
    "\"\n",
    "end\n",
    "'''"
   ]
  },
  {
   "cell_type": "code",
   "execution_count": 3,
   "id": "d5e9f9ce-9fe5-420e-8ebf-88b62aa29fcb",
   "metadata": {
    "tags": []
   },
   "outputs": [
    {
     "name": "stdout",
     "output_type": "stream",
     "text": [
      "Say this is a test: \n",
      "This is a test. Repeat: \n",
      "This is a test.\n"
     ]
    }
   ],
   "source": [
    "query_execution(test11)"
   ]
  },
  {
   "cell_type": "markdown",
   "id": "a6dfe71c-6f2d-46c5-a37c-63f861870e30",
   "metadata": {},
   "source": [
    "### If the variable in {} does not shows before, it will throw an exception."
   ]
  },
  {
   "cell_type": "code",
   "execution_count": 4,
   "id": "8353ef16-0ef6-49f0-9aa6-ba418d1c0f29",
   "metadata": {
    "tags": []
   },
   "outputs": [],
   "source": [
    "test12 = \\\n",
    "'''\n",
    "argmax\n",
    "task\n",
    "\"\n",
    "Say this is a test: [variable1]\n",
    "Repeat: {variable2}\n",
    "\"\n",
    "end\n",
    "'''"
   ]
  },
  {
   "cell_type": "code",
   "execution_count": 5,
   "id": "2c1687ac-9e1e-4789-ad47-0af526e51a3b",
   "metadata": {
    "tags": []
   },
   "outputs": [
    {
     "ename": "Exception",
     "evalue": "Not defined variable: variable2",
     "output_type": "error",
     "traceback": [
      "\u001b[1;31m---------------------------------------------------------------------------\u001b[0m",
      "\u001b[1;31mException\u001b[0m                                 Traceback (most recent call last)",
      "Cell \u001b[1;32mIn[5], line 1\u001b[0m\n\u001b[1;32m----> 1\u001b[0m query_execution(test12)\n",
      "File \u001b[1;32mD:\\python_project\\prompting language\\LMlanguage.py:7\u001b[0m, in \u001b[0;36mquery_execution\u001b[1;34m(query)\u001b[0m\n\u001b[0;32m      6\u001b[0m \u001b[38;5;28;01mdef\u001b[39;00m \u001b[38;5;21mquery_execution\u001b[39m(query:\u001b[38;5;28mstr\u001b[39m):\n\u001b[1;32m----> 7\u001b[0m     completeness(query)\n\u001b[0;32m      8\u001b[0m     public_scope \u001b[38;5;241m=\u001b[39m {}\n\u001b[0;32m      9\u001b[0m     pattern_argmax \u001b[38;5;241m=\u001b[39m re\u001b[38;5;241m.\u001b[39mcompile(\u001b[38;5;124mr\u001b[39m\u001b[38;5;124m'\u001b[39m\u001b[38;5;124margmax\u001b[39m\u001b[38;5;124m'\u001b[39m)\n",
      "File \u001b[1;32mD:\\python_project\\prompting language\\complete.py:12\u001b[0m, in \u001b[0;36mcompleteness\u001b[1;34m(inputsentences)\u001b[0m\n\u001b[0;32m     10\u001b[0m private_scope\u001b[38;5;241m.\u001b[39mextend(public_scope)\n\u001b[0;32m     11\u001b[0m parsed \u001b[38;5;241m=\u001b[39m constructionsplit(t)\n\u001b[1;32m---> 12\u001b[0m checkcomplete_s(parsed[\u001b[38;5;241m0\u001b[39m], private_scope)\n\u001b[0;32m     13\u001b[0m \u001b[38;5;28;01mif\u001b[39;00m parsed[\u001b[38;5;241m1\u001b[39m] \u001b[38;5;241m!=\u001b[39m \u001b[38;5;124m'\u001b[39m\u001b[38;5;124m'\u001b[39m:\n\u001b[0;32m     14\u001b[0m     private_scope\u001b[38;5;241m.\u001b[39mappend(parsed[\u001b[38;5;241m1\u001b[39m]\u001b[38;5;241m.\u001b[39mstrip(\u001b[38;5;124m'\u001b[39m\u001b[38;5;124m\\\u001b[39m\u001b[38;5;124m[\u001b[39m\u001b[38;5;124m\\\u001b[39m\u001b[38;5;124m] \u001b[39m\u001b[38;5;124m'\u001b[39m))\n",
      "File \u001b[1;32mD:\\python_project\\prompting language\\complete.py:24\u001b[0m, in \u001b[0;36mcheckcomplete_s\u001b[1;34m(s_list, scope)\u001b[0m\n\u001b[0;32m     22\u001b[0m     com_var_brackets(s, scope)\n\u001b[0;32m     23\u001b[0m \u001b[38;5;28;01melif\u001b[39;00m re\u001b[38;5;241m.\u001b[39msearch(\u001b[38;5;124mr\u001b[39m\u001b[38;5;124m'\u001b[39m\u001b[38;5;124m\\\u001b[39m\u001b[38;5;124m{\u001b[39m\u001b[38;5;124m[a-zA-Z0-9]+?\u001b[39m\u001b[38;5;124m\\\u001b[39m\u001b[38;5;124m}\u001b[39m\u001b[38;5;124m'\u001b[39m, s) \u001b[38;5;241m!=\u001b[39m \u001b[38;5;28;01mNone\u001b[39;00m:\n\u001b[1;32m---> 24\u001b[0m     com_var_curlybraces(s, scope)\n\u001b[0;32m     25\u001b[0m \u001b[38;5;28;01melse\u001b[39;00m:\n\u001b[0;32m     26\u001b[0m     com_string(s)\n",
      "File \u001b[1;32mD:\\python_project\\prompting language\\complete.py:38\u001b[0m, in \u001b[0;36mcom_var_curlybraces\u001b[1;34m(s, scope)\u001b[0m\n\u001b[0;32m     36\u001b[0m variablename \u001b[38;5;241m=\u001b[39m re\u001b[38;5;241m.\u001b[39msearch(\u001b[38;5;124mr\u001b[39m\u001b[38;5;124m'\u001b[39m\u001b[38;5;124m\\\u001b[39m\u001b[38;5;124m{\u001b[39m\u001b[38;5;124m[a-zA-Z0-9]+?\u001b[39m\u001b[38;5;124m\\\u001b[39m\u001b[38;5;124m}\u001b[39m\u001b[38;5;124m'\u001b[39m, s)\u001b[38;5;241m.\u001b[39mgroup(\u001b[38;5;241m0\u001b[39m)\u001b[38;5;241m.\u001b[39mstrip(\u001b[38;5;124m'\u001b[39m\u001b[38;5;124m\\\u001b[39m\u001b[38;5;124m{\u001b[39m\u001b[38;5;124m\\\u001b[39m\u001b[38;5;124m} \u001b[39m\u001b[38;5;124m'\u001b[39m)\n\u001b[0;32m     37\u001b[0m \u001b[38;5;28;01mif\u001b[39;00m scope\u001b[38;5;241m.\u001b[39mcount(variablename) \u001b[38;5;241m==\u001b[39m \u001b[38;5;241m0\u001b[39m:\n\u001b[1;32m---> 38\u001b[0m     \u001b[38;5;28;01mraise\u001b[39;00m \u001b[38;5;167;01mException\u001b[39;00m(\u001b[38;5;124m'\u001b[39m\u001b[38;5;124mNot defined variable: \u001b[39m\u001b[38;5;124m'\u001b[39m \u001b[38;5;241m+\u001b[39m variablename)\n",
      "\u001b[1;31mException\u001b[0m: Not defined variable: variable2"
     ]
    }
   ],
   "source": [
    "query_execution(test12)"
   ]
  },
  {
   "cell_type": "markdown",
   "id": "282f07a9-4191-430b-a882-4f9fb77edad7",
   "metadata": {},
   "source": [
    "## Test2 Multitasks Test\n",
    "\n",
    "### Here I will test the function of multitasks. That is, the final execution of one task can be used as a variable of another task. In this test, the final ouput of the first task is captured by [vaiable1] and it can be used in the next task."
   ]
  },
  {
   "cell_type": "code",
   "execution_count": 6,
   "id": "57ceb70b-d76e-424e-b15b-4898df307680",
   "metadata": {
    "tags": []
   },
   "outputs": [],
   "source": [
    "test21 = \\\n",
    "'''\n",
    "argmax\n",
    "task\n",
    "\"\n",
    "1+1=\n",
    "\"\n",
    "output as [variable1]\n",
    "where int(variable1)\n",
    "end\n",
    "\n",
    "task\n",
    "\"\n",
    "1+1={variable1}\n",
    "Is it correct? [variable2]\n",
    "Repeat: {variable2}\n",
    "\"\n",
    "where str(variable2)\n",
    "end\n",
    "'''"
   ]
  },
  {
   "cell_type": "code",
   "execution_count": 7,
   "id": "adb9a18e-c4ca-4793-9081-e8ec20061db7",
   "metadata": {
    "tags": []
   },
   "outputs": [
    {
     "name": "stdout",
     "output_type": "stream",
     "text": [
      "1+1=\n",
      "1+1=2\n",
      "\n",
      " Is it correct? \n",
      "\n",
      "Yes, that is correct.  Repeat: \n",
      "\n",
      "Yes, that is correct. \n"
     ]
    }
   ],
   "source": [
    "query_execution(test21)"
   ]
  },
  {
   "cell_type": "markdown",
   "id": "c8b3a795-951e-4173-b252-209976a2ef9a",
   "metadata": {
    "tags": []
   },
   "source": [
    "### Also, it will throw an exception when an outer vairable in the following task is not defined by the output as clause."
   ]
  },
  {
   "cell_type": "code",
   "execution_count": 8,
   "id": "7053ea7e-aae9-4d96-b02c-c987df73d336",
   "metadata": {
    "tags": []
   },
   "outputs": [],
   "source": [
    "test22 = \\\n",
    "'''\n",
    "argmax\n",
    "task\n",
    "\"\n",
    "1+1=[variable1]\n",
    "\"\n",
    "end\n",
    "\n",
    "task\n",
    "\"\n",
    "1+1={variable1}\n",
    "Is it correct? [variable2]\n",
    "Repeat: {variable2}\n",
    "\"\n",
    "where str(variable2)\n",
    "end\n",
    "'''"
   ]
  },
  {
   "cell_type": "code",
   "execution_count": 9,
   "id": "c5737670-fe12-4c5f-a37e-cd275dd9fd3f",
   "metadata": {
    "tags": []
   },
   "outputs": [
    {
     "ename": "Exception",
     "evalue": "Not defined variable: variable1",
     "output_type": "error",
     "traceback": [
      "\u001b[1;31m---------------------------------------------------------------------------\u001b[0m",
      "\u001b[1;31mException\u001b[0m                                 Traceback (most recent call last)",
      "Cell \u001b[1;32mIn[9], line 1\u001b[0m\n\u001b[1;32m----> 1\u001b[0m query_execution(test22)\n",
      "File \u001b[1;32mD:\\python_project\\prompting language\\LMlanguage.py:7\u001b[0m, in \u001b[0;36mquery_execution\u001b[1;34m(query)\u001b[0m\n\u001b[0;32m      6\u001b[0m \u001b[38;5;28;01mdef\u001b[39;00m \u001b[38;5;21mquery_execution\u001b[39m(query:\u001b[38;5;28mstr\u001b[39m):\n\u001b[1;32m----> 7\u001b[0m     completeness(query)\n\u001b[0;32m      8\u001b[0m     public_scope \u001b[38;5;241m=\u001b[39m {}\n\u001b[0;32m      9\u001b[0m     pattern_argmax \u001b[38;5;241m=\u001b[39m re\u001b[38;5;241m.\u001b[39mcompile(\u001b[38;5;124mr\u001b[39m\u001b[38;5;124m'\u001b[39m\u001b[38;5;124margmax\u001b[39m\u001b[38;5;124m'\u001b[39m)\n",
      "File \u001b[1;32mD:\\python_project\\prompting language\\complete.py:12\u001b[0m, in \u001b[0;36mcompleteness\u001b[1;34m(inputsentences)\u001b[0m\n\u001b[0;32m     10\u001b[0m private_scope\u001b[38;5;241m.\u001b[39mextend(public_scope)\n\u001b[0;32m     11\u001b[0m parsed \u001b[38;5;241m=\u001b[39m constructionsplit(t)\n\u001b[1;32m---> 12\u001b[0m checkcomplete_s(parsed[\u001b[38;5;241m0\u001b[39m], private_scope)\n\u001b[0;32m     13\u001b[0m \u001b[38;5;28;01mif\u001b[39;00m parsed[\u001b[38;5;241m1\u001b[39m] \u001b[38;5;241m!=\u001b[39m \u001b[38;5;124m'\u001b[39m\u001b[38;5;124m'\u001b[39m:\n\u001b[0;32m     14\u001b[0m     private_scope\u001b[38;5;241m.\u001b[39mappend(parsed[\u001b[38;5;241m1\u001b[39m]\u001b[38;5;241m.\u001b[39mstrip(\u001b[38;5;124m'\u001b[39m\u001b[38;5;124m\\\u001b[39m\u001b[38;5;124m[\u001b[39m\u001b[38;5;124m\\\u001b[39m\u001b[38;5;124m] \u001b[39m\u001b[38;5;124m'\u001b[39m))\n",
      "File \u001b[1;32mD:\\python_project\\prompting language\\complete.py:24\u001b[0m, in \u001b[0;36mcheckcomplete_s\u001b[1;34m(s_list, scope)\u001b[0m\n\u001b[0;32m     22\u001b[0m     com_var_brackets(s, scope)\n\u001b[0;32m     23\u001b[0m \u001b[38;5;28;01melif\u001b[39;00m re\u001b[38;5;241m.\u001b[39msearch(\u001b[38;5;124mr\u001b[39m\u001b[38;5;124m'\u001b[39m\u001b[38;5;124m\\\u001b[39m\u001b[38;5;124m{\u001b[39m\u001b[38;5;124m[a-zA-Z0-9]+?\u001b[39m\u001b[38;5;124m\\\u001b[39m\u001b[38;5;124m}\u001b[39m\u001b[38;5;124m'\u001b[39m, s) \u001b[38;5;241m!=\u001b[39m \u001b[38;5;28;01mNone\u001b[39;00m:\n\u001b[1;32m---> 24\u001b[0m     com_var_curlybraces(s, scope)\n\u001b[0;32m     25\u001b[0m \u001b[38;5;28;01melse\u001b[39;00m:\n\u001b[0;32m     26\u001b[0m     com_string(s)\n",
      "File \u001b[1;32mD:\\python_project\\prompting language\\complete.py:38\u001b[0m, in \u001b[0;36mcom_var_curlybraces\u001b[1;34m(s, scope)\u001b[0m\n\u001b[0;32m     36\u001b[0m variablename \u001b[38;5;241m=\u001b[39m re\u001b[38;5;241m.\u001b[39msearch(\u001b[38;5;124mr\u001b[39m\u001b[38;5;124m'\u001b[39m\u001b[38;5;124m\\\u001b[39m\u001b[38;5;124m{\u001b[39m\u001b[38;5;124m[a-zA-Z0-9]+?\u001b[39m\u001b[38;5;124m\\\u001b[39m\u001b[38;5;124m}\u001b[39m\u001b[38;5;124m'\u001b[39m, s)\u001b[38;5;241m.\u001b[39mgroup(\u001b[38;5;241m0\u001b[39m)\u001b[38;5;241m.\u001b[39mstrip(\u001b[38;5;124m'\u001b[39m\u001b[38;5;124m\\\u001b[39m\u001b[38;5;124m{\u001b[39m\u001b[38;5;124m\\\u001b[39m\u001b[38;5;124m} \u001b[39m\u001b[38;5;124m'\u001b[39m)\n\u001b[0;32m     37\u001b[0m \u001b[38;5;28;01mif\u001b[39;00m scope\u001b[38;5;241m.\u001b[39mcount(variablename) \u001b[38;5;241m==\u001b[39m \u001b[38;5;241m0\u001b[39m:\n\u001b[1;32m---> 38\u001b[0m     \u001b[38;5;28;01mraise\u001b[39;00m \u001b[38;5;167;01mException\u001b[39;00m(\u001b[38;5;124m'\u001b[39m\u001b[38;5;124mNot defined variable: \u001b[39m\u001b[38;5;124m'\u001b[39m \u001b[38;5;241m+\u001b[39m variablename)\n",
      "\u001b[1;31mException\u001b[0m: Not defined variable: variable1"
     ]
    }
   ],
   "source": [
    "query_execution(test22)"
   ]
  },
  {
   "cell_type": "markdown",
   "id": "2d78435f-6354-4f86-a22b-ac27b78cc5d7",
   "metadata": {},
   "source": [
    "## Test3 Constraint Test\n",
    "\n",
    "### Here I will test the constraint type(). In this test, int(variable1) will pass. str(variable1) will not."
   ]
  },
  {
   "cell_type": "code",
   "execution_count": 10,
   "id": "62563dfa-032c-48a1-b59b-c640052202b2",
   "metadata": {
    "tags": []
   },
   "outputs": [],
   "source": [
    "test31 = \\\n",
    "'''\n",
    "argmax\n",
    "task\n",
    "\"\n",
    "1+1=[variable1]\n",
    "\"\n",
    "where int(variable1)\n",
    "end\n",
    "'''"
   ]
  },
  {
   "cell_type": "code",
   "execution_count": 11,
   "id": "cc5b0871-df54-459f-9018-19df09f8d285",
   "metadata": {
    "tags": []
   },
   "outputs": [
    {
     "name": "stdout",
     "output_type": "stream",
     "text": [
      "1+1=2\n",
      "\n",
      "\n"
     ]
    }
   ],
   "source": [
    "query_execution(test31)"
   ]
  },
  {
   "cell_type": "code",
   "execution_count": 12,
   "id": "21fa51df-a087-42ca-a369-963f59e03943",
   "metadata": {
    "tags": []
   },
   "outputs": [],
   "source": [
    "test32 = \\\n",
    "'''\n",
    "argmax\n",
    "task\n",
    "\"\n",
    "1+1=[variable1]\n",
    "\"\n",
    "where str(variable1)\n",
    "end\n",
    "'''"
   ]
  },
  {
   "cell_type": "code",
   "execution_count": 13,
   "id": "8db01ef4-aaa1-429f-92e5-6e4ade9ee2c4",
   "metadata": {
    "tags": []
   },
   "outputs": [
    {
     "ename": "Exception",
     "evalue": "The language model cannot produce a sequence that satisfies the constraint: str(variable1)",
     "output_type": "error",
     "traceback": [
      "\u001b[1;31m---------------------------------------------------------------------------\u001b[0m",
      "\u001b[1;31mException\u001b[0m                                 Traceback (most recent call last)",
      "Cell \u001b[1;32mIn[13], line 1\u001b[0m\n\u001b[1;32m----> 1\u001b[0m query_execution(test32)\n",
      "File \u001b[1;32mD:\\python_project\\prompting language\\LMlanguage.py:22\u001b[0m, in \u001b[0;36mquery_execution\u001b[1;34m(query)\u001b[0m\n\u001b[0;32m     20\u001b[0m \u001b[38;5;28;01mfor\u001b[39;00m t \u001b[38;5;129;01min\u001b[39;00m tasks:\n\u001b[0;32m     21\u001b[0m     one_task \u001b[38;5;241m=\u001b[39m task(t, public_scope, decoding)\n\u001b[1;32m---> 22\u001b[0m     output \u001b[38;5;241m=\u001b[39m one_task\u001b[38;5;241m.\u001b[39mrun()\n\u001b[0;32m     23\u001b[0m     public_scope\u001b[38;5;241m.\u001b[39mupdate(output)\n",
      "File \u001b[1;32mD:\\python_project\\prompting language\\runtime.py:36\u001b[0m, in \u001b[0;36mtask.run\u001b[1;34m(self)\u001b[0m\n\u001b[0;32m     34\u001b[0m generated_sequence \u001b[38;5;241m=\u001b[39m \u001b[38;5;124m'\u001b[39m\u001b[38;5;124m'\u001b[39m\n\u001b[0;32m     35\u001b[0m \u001b[38;5;28;01mif\u001b[39;00m constraint\u001b[38;5;241m.\u001b[39mfind(\u001b[38;5;124m'\u001b[39m\u001b[38;5;124mstop_at\u001b[39m\u001b[38;5;124m'\u001b[39m) \u001b[38;5;241m==\u001b[39m \u001b[38;5;241m-\u001b[39m\u001b[38;5;241m1\u001b[39m:\n\u001b[1;32m---> 36\u001b[0m     generated_sequence \u001b[38;5;241m=\u001b[39m \u001b[38;5;28mself\u001b[39m\u001b[38;5;241m.\u001b[39mnext_step(constraint, generated_sequence, i, step, ith, \u001b[38;5;241m1\u001b[39m, \u001b[38;5;28;01mTrue\u001b[39;00m)\n\u001b[0;32m     37\u001b[0m \u001b[38;5;28;01melse\u001b[39;00m:\n\u001b[0;32m     38\u001b[0m     generated_sequence \u001b[38;5;241m=\u001b[39m \u001b[38;5;28mself\u001b[39m\u001b[38;5;241m.\u001b[39mnext_step_stop_at(constraint, generated_sequence, i, step, ith, \u001b[38;5;241m1\u001b[39m, \u001b[38;5;28;01mTrue\u001b[39;00m)\n",
      "File \u001b[1;32mD:\\python_project\\prompting language\\runtime.py:115\u001b[0m, in \u001b[0;36mtask.next_step\u001b[1;34m(self, constraint, generated_sequence, i, step, ith, ith_i, new)\u001b[0m\n\u001b[0;32m    113\u001b[0m     \u001b[38;5;28;01mreturn\u001b[39;00m generated_sequence\n\u001b[0;32m    114\u001b[0m \u001b[38;5;28;01melif\u001b[39;00m passed \u001b[38;5;241m==\u001b[39m \u001b[38;5;28;01mFalse\u001b[39;00m \u001b[38;5;129;01mand\u001b[39;00m ith_i \u001b[38;5;241m<\u001b[39m\u001b[38;5;241m=\u001b[39m \u001b[38;5;28mself\u001b[39m\u001b[38;5;241m.\u001b[39mn:\n\u001b[1;32m--> 115\u001b[0m     \u001b[38;5;28;01mreturn\u001b[39;00m \u001b[38;5;28mself\u001b[39m\u001b[38;5;241m.\u001b[39mnext_step(constraint, generated_sequence, i, step, ith, ith[i] \u001b[38;5;241m+\u001b[39m \u001b[38;5;241m1\u001b[39m, \u001b[38;5;28;01mFalse\u001b[39;00m)\n\u001b[0;32m    116\u001b[0m \u001b[38;5;28;01melse\u001b[39;00m:\n\u001b[0;32m    117\u001b[0m     \u001b[38;5;28;01mraise\u001b[39;00m \u001b[38;5;167;01mException\u001b[39;00m(\u001b[38;5;124m'\u001b[39m\u001b[38;5;124mExecution error!\u001b[39m\u001b[38;5;124m'\u001b[39m)\n",
      "File \u001b[1;32mD:\\python_project\\prompting language\\runtime.py:100\u001b[0m, in \u001b[0;36mtask.next_step\u001b[1;34m(self, constraint, generated_sequence, i, step, ith, ith_i, new)\u001b[0m\n\u001b[0;32m     98\u001b[0m     \u001b[38;5;28;01mreturn\u001b[39;00m generated_sequence\n\u001b[0;32m     99\u001b[0m \u001b[38;5;28;01mif\u001b[39;00m ith_i \u001b[38;5;241m==\u001b[39m \u001b[38;5;28mself\u001b[39m\u001b[38;5;241m.\u001b[39mn \u001b[38;5;241m+\u001b[39m \u001b[38;5;241m1\u001b[39m \u001b[38;5;129;01mand\u001b[39;00m i \u001b[38;5;241m==\u001b[39m \u001b[38;5;241m1\u001b[39m:\n\u001b[1;32m--> 100\u001b[0m     \u001b[38;5;28;01mraise\u001b[39;00m \u001b[38;5;167;01mException\u001b[39;00m(\u001b[38;5;124m'\u001b[39m\u001b[38;5;124mThe language model cannot produce a sequence that satisfies the constraint: \u001b[39m\u001b[38;5;124m'\u001b[39m \u001b[38;5;241m+\u001b[39m constraint)\n\u001b[0;32m    101\u001b[0m \u001b[38;5;28;01melif\u001b[39;00m ith_i \u001b[38;5;241m==\u001b[39m \u001b[38;5;28mself\u001b[39m\u001b[38;5;241m.\u001b[39mn \u001b[38;5;241m+\u001b[39m \u001b[38;5;241m1\u001b[39m \u001b[38;5;129;01mand\u001b[39;00m i \u001b[38;5;241m>\u001b[39m \u001b[38;5;241m1\u001b[39m:\n\u001b[0;32m    102\u001b[0m     i \u001b[38;5;241m-\u001b[39m\u001b[38;5;241m=\u001b[39m \u001b[38;5;241m1\u001b[39m\n",
      "\u001b[1;31mException\u001b[0m: The language model cannot produce a sequence that satisfies the constraint: str(variable1)"
     ]
    }
   ],
   "source": [
    "query_execution(test32)"
   ]
  },
  {
   "cell_type": "markdown",
   "id": "7b4defa9-7fec-4a01-a2e4-97e33429636d",
   "metadata": {
    "tags": []
   },
   "source": [
    "### Here I test the constraint in. In this test, because 2 is in the list [1, 2, 3], it passed the constraint."
   ]
  },
  {
   "cell_type": "code",
   "execution_count": 14,
   "id": "d25aa238-9873-4e69-9cb5-abbf824976c4",
   "metadata": {
    "tags": []
   },
   "outputs": [],
   "source": [
    "test33 = \\\n",
    "'''\n",
    "argmax\n",
    "task\n",
    "\"\n",
    "1+1=[variable1]\n",
    "\"\n",
    "where int(variable1) and variable1 in [1, 2, 3]\n",
    "end\n",
    "'''"
   ]
  },
  {
   "cell_type": "code",
   "execution_count": 15,
   "id": "16174896-a124-4a04-b7a4-590bc5185fee",
   "metadata": {
    "tags": []
   },
   "outputs": [
    {
     "name": "stdout",
     "output_type": "stream",
     "text": [
      "1+1=2\n",
      "\n",
      "\n"
     ]
    }
   ],
   "source": [
    "query_execution(test33)"
   ]
  },
  {
   "cell_type": "markdown",
   "id": "ad11223c-5aa3-436b-830f-c979ed782080",
   "metadata": {},
   "source": [
    "### This is a test of stop_at. Because the GPT generate the \"AI\" here, we stop its generation."
   ]
  },
  {
   "cell_type": "code",
   "execution_count": 16,
   "id": "c7b1722a-034c-444c-90c1-41c35df77410",
   "metadata": {
    "tags": []
   },
   "outputs": [],
   "source": [
    "test34 = \\\n",
    "'''\n",
    "argmax\n",
    "task\n",
    "\"\n",
    "Who are you?[variable1]\n",
    "\"\n",
    "where stop_at(variable1, \"AI\")\n",
    "end\n",
    "'''"
   ]
  },
  {
   "cell_type": "code",
   "execution_count": 17,
   "id": "726780cf-c0d9-4e8a-bc52-3a90861e9adb",
   "metadata": {
    "tags": []
   },
   "outputs": [
    {
     "name": "stdout",
     "output_type": "stream",
     "text": [
      "Who are you?\n",
      "\n",
      "I am a language model AI\n"
     ]
    }
   ],
   "source": [
    "query_execution(test34)"
   ]
  },
  {
   "cell_type": "markdown",
   "id": "7d86792b-4223-4f69-9713-15c32b377ced",
   "metadata": {},
   "source": [
    "## Using the top_k with the constraint, we can control the response of language model.\n",
    "\n",
    "### Here the language model generates three possible tokens \"1\", \"2\", \"3\". Due to the constraint, only \"1\" is returned."
   ]
  },
  {
   "cell_type": "code",
   "execution_count": 18,
   "id": "3f56752b-a077-40d3-8a74-e458a444f385",
   "metadata": {
    "tags": []
   },
   "outputs": [],
   "source": [
    "test4 = \\\n",
    "'''\n",
    "top_k = 3\n",
    "task\n",
    "\"\n",
    "1+1=[variable1]\n",
    "\"\n",
    "where int(variable1) and equal(variable1, 1)\n",
    "end\n",
    "'''"
   ]
  },
  {
   "cell_type": "code",
   "execution_count": 19,
   "id": "f25e700e-dc31-4593-85c2-aa7c14ba4e6d",
   "metadata": {
    "tags": []
   },
   "outputs": [
    {
     "name": "stdout",
     "output_type": "stream",
     "text": [
      "1+1=1\n"
     ]
    }
   ],
   "source": [
    "query_execution(test4)"
   ]
  },
  {
   "cell_type": "code",
   "execution_count": null,
   "id": "e321a416-957b-450b-a638-af4dd7ab6fc9",
   "metadata": {},
   "outputs": [],
   "source": []
  }
 ],
 "metadata": {
  "kernelspec": {
   "display_name": "Python 3 (ipykernel)",
   "language": "python",
   "name": "python3"
  },
  "language_info": {
   "codemirror_mode": {
    "name": "ipython",
    "version": 3
   },
   "file_extension": ".py",
   "mimetype": "text/x-python",
   "name": "python",
   "nbconvert_exporter": "python",
   "pygments_lexer": "ipython3",
   "version": "3.11.5"
  }
 },
 "nbformat": 4,
 "nbformat_minor": 5
}
